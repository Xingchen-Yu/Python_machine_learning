{
 "cells": [
  {
   "cell_type": "markdown",
   "id": "global-advisory",
   "metadata": {},
   "source": [
    "# Kaggle data\n",
    "#### https://www.kaggle.com/c/house-prices-advanced-regression-techniques/data"
   ]
  },
  {
   "cell_type": "code",
   "execution_count": 1,
   "id": "normal-encoding",
   "metadata": {},
   "outputs": [],
   "source": [
    "import numpy as np\n",
    "import pandas as pd\n",
    "import matplotlib.pyplot as plt"
   ]
  },
  {
   "cell_type": "code",
   "execution_count": 73,
   "id": "static-efficiency",
   "metadata": {},
   "outputs": [
    {
     "name": "stdout",
     "output_type": "stream",
     "text": [
      "training data size: (1460, 80)\n",
      "test data size: (1459, 79)\n"
     ]
    }
   ],
   "source": [
    "train = pd.read_csv(\"../data/Housing/train.csv\").drop('Id',1)\n",
    "test = pd.read_csv(\"../data/Housing/test.csv\").drop('Id',1)\n",
    "print(f\"training data size: {train.shape}\")\n",
    "print(f\"test data size: {test.shape}\")"
   ]
  },
  {
   "cell_type": "code",
   "execution_count": 64,
   "id": "sharp-croatia",
   "metadata": {},
   "outputs": [
    {
     "data": {
      "text/plain": [
       "LotFrontage      259\n",
       "Alley           1369\n",
       "MasVnrType         8\n",
       "MasVnrArea         8\n",
       "BsmtQual          37\n",
       "BsmtCond          37\n",
       "BsmtExposure      38\n",
       "BsmtFinType1      37\n",
       "BsmtFinType2      38\n",
       "Electrical         1\n",
       "FireplaceQu      690\n",
       "GarageType        81\n",
       "GarageYrBlt       81\n",
       "GarageFinish      81\n",
       "GarageQual        81\n",
       "GarageCond        81\n",
       "PoolQC          1453\n",
       "Fence           1179\n",
       "MiscFeature     1406\n",
       "dtype: int64"
      ]
     },
     "execution_count": 64,
     "metadata": {},
     "output_type": "execute_result"
    }
   ],
   "source": [
    "na_index = np.squeeze(np.argwhere(train.isnull().any().values == True))\n",
    "na_series = np.sum(train.iloc[:,na_index].isnull())\n",
    "na_series"
   ]
  },
  {
   "cell_type": "code",
   "execution_count": 72,
   "id": "christian-conclusion",
   "metadata": {},
   "outputs": [
    {
     "name": "stdout",
     "output_type": "stream",
     "text": [
      "numerical columns: 37\n",
      "categorical columns: 43\n"
     ]
    }
   ],
   "source": [
    "print(f\"numerical columns: {train.select_dtypes(include=['int64', 'float64']).columns.shape[0]}\")\n",
    "print(f\"categorical columns: {train.select_dtypes(include=[object]).columns.shape[0]}\")\n",
    "#train.select_dtypes(include=np.number).columns.shape"
   ]
  },
  {
   "cell_type": "code",
   "execution_count": 82,
   "id": "exceptional-crossing",
   "metadata": {},
   "outputs": [
    {
     "data": {
      "text/plain": [
       "MSZoning          5\n",
       "Street            2\n",
       "Alley             2\n",
       "LotShape          4\n",
       "LandContour       4\n",
       "Utilities         2\n",
       "LotConfig         5\n",
       "LandSlope         3\n",
       "Neighborhood     25\n",
       "Condition1        9\n",
       "Condition2        8\n",
       "BldgType          5\n",
       "HouseStyle        8\n",
       "RoofStyle         6\n",
       "RoofMatl          8\n",
       "Exterior1st      15\n",
       "Exterior2nd      16\n",
       "MasVnrType        4\n",
       "ExterQual         4\n",
       "ExterCond         5\n",
       "Foundation        6\n",
       "BsmtQual          4\n",
       "BsmtCond          4\n",
       "BsmtExposure      4\n",
       "BsmtFinType1      6\n",
       "BsmtFinType2      6\n",
       "Heating           6\n",
       "HeatingQC         5\n",
       "CentralAir        2\n",
       "Electrical        5\n",
       "KitchenQual       4\n",
       "Functional        7\n",
       "FireplaceQu       5\n",
       "GarageType        6\n",
       "GarageFinish      3\n",
       "GarageQual        5\n",
       "GarageCond        5\n",
       "PavedDrive        3\n",
       "PoolQC            3\n",
       "Fence             4\n",
       "MiscFeature       4\n",
       "SaleType          9\n",
       "SaleCondition     6\n",
       "Name: unique, dtype: object"
      ]
     },
     "execution_count": 82,
     "metadata": {},
     "output_type": "execute_result"
    }
   ],
   "source": [
    "train.select_dtypes(include=[object]).describe().loc['unique']"
   ]
  },
  {
   "cell_type": "code",
   "execution_count": 28,
   "id": "fifteen-advance",
   "metadata": {},
   "outputs": [
    {
     "data": {
      "text/plain": [
       "(array([ 11.,  38.,  99., 232., 273., 218., 176., 104.,  93.,  58.,  42.,\n",
       "         35.,  24.,  10.,  17.,   8.,   7.,   4.,   2.,   1.,   1.,   2.,\n",
       "          1.,   0.,   2.,   0.,   0.,   0.,   0.,   2.]),\n",
       " array([-1.83870376, -1.53645299, -1.23420222, -0.93195144, -0.62970067,\n",
       "        -0.3274499 , -0.02519913,  0.27705165,  0.57930242,  0.88155319,\n",
       "         1.18380397,  1.48605474,  1.78830551,  2.09055628,  2.39280706,\n",
       "         2.69505783,  2.9973086 ,  3.29955937,  3.60181015,  3.90406092,\n",
       "         4.20631169,  4.50856246,  4.81081324,  5.11306401,  5.41531478,\n",
       "         5.71756556,  6.01981633,  6.3220671 ,  6.62431787,  6.92656865,\n",
       "         7.22881942]),\n",
       " <BarContainer object of 30 artists>)"
      ]
     },
     "execution_count": 28,
     "metadata": {},
     "output_type": "execute_result"
    },
    {
     "data": {
      "image/png": "[encoded data removed]",
      "text/plain": [
       "<Figure size 432x288 with 1 Axes>"
      ]
     },
     "metadata": {
      "needs_background": "light"
     },
     "output_type": "display_data"
    }
   ],
   "source": [
    "Y = train['SalePrice']\n",
    "Y_scale = (Y - np.mean(Y))/np.std(Y)\n",
    "plt.hist(Y_scale,bins=30)"
   ]
  },
  {
   "cell_type": "code",
   "execution_count": null,
   "id": "distributed-impression",
   "metadata": {},
   "outputs": [],
   "source": []
  }
 ],
 "metadata": {
  "kernelspec": {
   "display_name": "Python 3",
   "language": "python",
   "name": "python3"
  },
  "language_info": {
   "codemirror_mode": {
    "name": "ipython",
    "version": 3
   },
   "file_extension": ".py",
   "mimetype": "text/x-python",
   "name": "python",
   "nbconvert_exporter": "python",
   "pygments_lexer": "ipython3",
   "version": "3.6.10"
  }
 },
 "nbformat": 4,
 "nbformat_minor": 5
}
