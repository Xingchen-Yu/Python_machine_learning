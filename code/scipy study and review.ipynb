{
 "cells": [
  {
   "cell_type": "code",
   "execution_count": 1,
   "metadata": {},
   "outputs": [],
   "source": [
    "import scipy.stats as ss"
   ]
  },
  {
   "cell_type": "code",
   "execution_count": 6,
   "metadata": {},
   "outputs": [
    {
     "data": {
      "text/plain": [
       "0.3989422804014327"
      ]
     },
     "execution_count": 6,
     "metadata": {},
     "output_type": "execute_result"
    }
   ],
   "source": [
    "ss.norm.pdf(0) ## dnorm(0)"
   ]
  },
  {
   "cell_type": "code",
   "execution_count": 7,
   "metadata": {},
   "outputs": [
    {
     "data": {
      "text/plain": [
       "0.07820853879509118"
      ]
     },
     "execution_count": 7,
     "metadata": {},
     "output_type": "execute_result"
    }
   ],
   "source": [
    "ss.norm.pdf(0,loc=1,scale=5) ## dnorm(0,mean=0,std=5)"
   ]
  },
  {
   "cell_type": "code",
   "execution_count": 8,
   "metadata": {},
   "outputs": [
    {
     "data": {
      "text/plain": [
       "-0.9189385332046727"
      ]
     },
     "execution_count": 8,
     "metadata": {},
     "output_type": "execute_result"
    }
   ],
   "source": [
    "ss.norm.logpdf(0) ## dnorm(0,log=T)"
   ]
  },
  {
   "cell_type": "code",
   "execution_count": 14,
   "metadata": {},
   "outputs": [
    {
     "data": {
      "text/plain": [
       "0.6179114221889526"
      ]
     },
     "execution_count": 14,
     "metadata": {},
     "output_type": "execute_result"
    }
   ],
   "source": [
    "ss.norm.cdf(0.3) ## pnorm(0.3)"
   ]
  },
  {
   "cell_type": "code",
   "execution_count": 15,
   "metadata": {},
   "outputs": [
    {
     "data": {
      "text/plain": [
       "0.3820885778110474"
      ]
     },
     "execution_count": 15,
     "metadata": {},
     "output_type": "execute_result"
    }
   ],
   "source": [
    "ss.norm.sf(0.3) ## pnorm(0.3,lower.tail=F)"
   ]
  },
  {
   "cell_type": "code",
   "execution_count": 16,
   "metadata": {},
   "outputs": [
    {
     "data": {
      "text/plain": [
       "1.959963984540054"
      ]
     },
     "execution_count": 16,
     "metadata": {},
     "output_type": "execute_result"
    }
   ],
   "source": [
    "ss.norm.ppf(0.975) ## qnorm(0.975)"
   ]
  },
  {
   "cell_type": "code",
   "execution_count": 17,
   "metadata": {},
   "outputs": [
    {
     "data": {
      "text/plain": [
       "-1.959963984540054"
      ]
     },
     "execution_count": 17,
     "metadata": {},
     "output_type": "execute_result"
    }
   ],
   "source": [
    "ss.norm.isf(0.975) ## qnorm(0.975,lower.tail=F)"
   ]
  },
  {
   "cell_type": "code",
   "execution_count": 21,
   "metadata": {},
   "outputs": [
    {
     "data": {
      "text/plain": [
       "array([ 7.32856333,  0.66372575,  7.37254345,  8.66831253,  4.83094044,\n",
       "        5.3036073 ,  4.193262  ,  6.13790593,  4.80201991,  3.15466165,\n",
       "        2.95716542,  6.69162731,  5.71192598,  5.97458455,  4.37485412,\n",
       "        2.53169438,  3.94732986,  4.59143391,  4.8762381 ,  5.45250047,\n",
       "        2.45359233,  5.41842294,  7.0911408 ,  3.83577475,  4.78164245,\n",
       "        6.53590424,  6.15161141,  7.95865116,  7.74745812, -0.58562187,\n",
       "        4.92627346, -1.20812898,  4.52537873,  4.3201917 ,  5.88002331,\n",
       "        5.4141572 ,  7.99791473,  6.13619952,  3.51184273,  6.77090977,\n",
       "        1.89801274,  4.30042377,  4.66024622,  4.90137164,  2.50704286,\n",
       "        6.15416688,  6.93445433,  5.67449927,  4.26823585,  1.97534327,\n",
       "        4.60706819,  3.15063332,  6.80587931,  6.88605652,  8.84483498,\n",
       "        5.19367612,  1.82841991,  3.79705844,  6.45349364,  7.71410845,\n",
       "        6.88888326,  0.79968853,  8.30060401,  9.35687212,  5.84105551,\n",
       "        9.26704969,  4.90182973,  3.12153114,  8.34172307,  4.33700789,\n",
       "        2.96454673,  5.99492759,  3.96447403,  1.50656633,  3.27329523,\n",
       "        7.33238342,  5.57799392,  5.46026219,  4.21601054,  4.38308629,\n",
       "        3.24313577,  5.08096339,  2.60943864,  3.30624755,  3.57107975,\n",
       "        7.41231625,  2.88905694,  4.01497702,  6.79665846,  3.52460741,\n",
       "        3.80248771,  7.65358439,  2.93510961,  3.19662169,  4.20391096,\n",
       "        3.5485026 ,  9.51794255,  1.69397146,  4.18026729,  6.38573171])"
      ]
     },
     "execution_count": 21,
     "metadata": {},
     "output_type": "execute_result"
    }
   ],
   "source": [
    "ss.norm.rvs(size = 100,loc=5,scale=2) ## rnorm(100,5,2)"
   ]
  },
  {
   "cell_type": "code",
   "execution_count": 12,
   "metadata": {},
   "outputs": [],
   "source": [
    "import matplotlib.pyplot as plt"
   ]
  },
  {
   "cell_type": "code",
   "execution_count": 25,
   "metadata": {},
   "outputs": [
    {
     "data": {
      "text/plain": [
       "(array([ 14.,  90., 204., 235., 212., 130.,  66.,  31.,  14.,   4.]),\n",
       " array([ 1.27808679,  2.22502511,  3.17196342,  4.11890174,  5.06584006,\n",
       "         6.01277838,  6.95971669,  7.90665501,  8.85359333,  9.80053164,\n",
       "        10.74746996]),\n",
       " <a list of 10 Patch objects>)"
      ]
     },
     "execution_count": 25,
     "metadata": {},
     "output_type": "execute_result"
    },
    {
     "data": {
      "image/png": "[encoded data removed]",
      "text/plain": [
       "<matplotlib.figure.Figure at 0x281f214dba8>"
      ]
     },
     "metadata": {},
     "output_type": "display_data"
    }
   ],
   "source": [
    "plt.hist(ss.gamma.rvs(size=1000,a=10,scale=1/2))"
   ]
  },
  {
   "cell_type": "code",
   "execution_count": 29,
   "metadata": {},
   "outputs": [
    {
     "data": {
      "text/plain": [
       "2.3060041350333704"
      ]
     },
     "execution_count": 29,
     "metadata": {},
     "output_type": "execute_result"
    }
   ],
   "source": [
    "ss.t.ppf(0.975,df=8)"
   ]
  },
  {
   "cell_type": "code",
   "execution_count": null,
   "metadata": {},
   "outputs": [],
   "source": []
  }
 ],
 "metadata": {
  "kernelspec": {
   "display_name": "Python 3",
   "language": "python",
   "name": "python3"
  },
  "language_info": {
   "codemirror_mode": {
    "name": "ipython",
    "version": 3
   },
   "file_extension": ".py",
   "mimetype": "text/x-python",
   "name": "python",
   "nbconvert_exporter": "python",
   "pygments_lexer": "ipython3",
   "version": "3.6.10"
  }
 },
 "nbformat": 4,
 "nbformat_minor": 2
}
